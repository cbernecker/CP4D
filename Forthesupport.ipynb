{
    "cells": [
        {
            "cell_type": "code",
            "execution_count": 18,
            "metadata": {},
            "outputs": [],
            "source": "from sklearn.datasets import make_classification\nfrom sklearn.pipeline import Pipeline\nfrom sklearn import neighbors\n\ndef train_mission_final(support_mission):\n    '''\n    Train the support mission with all available data. Use the best parameters from the hyper-\n    parameter test. \n     input : support_mission ID\n     return: Pipeline of Model (include TFIDF and Model) \n    '''\n    n_neighbors = 3   \n    pipe = Pipeline([('knn', neighbors.KNeighborsClassifier(n_neighbors))])\n    pipe.fit(test[0], test[1])\n    return pipe\n\ntest = make_classification(n_samples=100, n_features=20)\nmodel = train_mission_final(test)"
        },
        {
            "cell_type": "code",
            "execution_count": 19,
            "metadata": {},
            "outputs": [],
            "source": "from ibm_watson_machine_learning import APIClient\n\n# Credentials\napi_key = \"<your API KEY>\"\nlocation = 'us-south'\n\nwml_credentials = {\n    \"apikey\": api_key,\n    \"url\": 'https://' + location + '.ml.cloud.ibm.com'\n}\n\n# Client Connection\nclient = APIClient(wml_credentials)\n# Deployment Space ID\nspace_id = \"<your SPACE ID>\"\nassert client.set.default_space(space_id) == 'SUCCESS'\n# SW-Spec\nsw_spec_uid = client.software_specifications.get_id_by_name('runtime-22.1-py3.9')"
        },
        {
            "cell_type": "code",
            "execution_count": 28,
            "metadata": {},
            "outputs": [],
            "source": "def publish_model(model):\n    '''\n    This function is to publish the model to the deployment space.\n     model: scikit-learn model to publish\n     support_mission: support mission name \n    '''\n    model_props = {\n        client.repository.ModelMetaNames.NAME: \"KNN Model for Mission: \",\n        client.repository.ModelMetaNames.TYPE: 'scikit-learn_0.23',\n        client.repository.ModelMetaNames.SOFTWARE_SPEC_UID: sw_spec_uid,\n        client.repository.ModelMetaNames.INPUT_DATA_SCHEMA: [{'id': \"asdasdasd\",\n                                                              'type': 'list',\n                                                              'fields': [{'name': 'text', 'type': 'string'}]\n                                                             }]\n        }\n    # publish model to deployment space\n    published_model = client.repository.store_model(model=model, meta_props=model_props)\n    model_uid = published_model['metadata']['id']\n    return model_uid"
        },
        {
            "cell_type": "code",
            "execution_count": 31,
            "metadata": {},
            "outputs": [],
            "source": "def deploy_model(model_uid):\n    '''\n    This function is to deploy the published model to the deployment \n    space.\n     model_uid: model_uid from a published model on the deployment space\n    '''\n    metadata = {\n        client.deployments.ConfigurationMetaNames.NAME: \"KNN Model for Mission: \",\n        client.deployments.ConfigurationMetaNames.ONLINE: {}\n    }\n    created_deployment = client.deployments.create(model_uid, meta_props=metadata)\n    serving_url = created_deployment['entity']['status']['serving_urls'][0]\n    deployment_uid = client.deployments.get_id(created_deployment)\n    return serving_url, deployment_uid"
        },
        {
            "cell_type": "code",
            "execution_count": 32,
            "metadata": {},
            "outputs": [
                {
                    "name": "stdout",
                    "output_type": "stream",
                    "text": "{\"trace\":\"c022dc449cda9a5de64909d4e7a87e09\",\"errors\":[{\"code\":\"unsupported_software_specification_details\",\"message\":\"Software specification runtime-22.1-py3.9 for model is not supported. Supported software specifications for model are: default_py3.7, default_py3.7_opence, default_py3.8. Retry deployment after saving the model with supported software specification.\"}]}\n\n\n--------------------------\nDeployment creation failed\n--------------------------\n\n\n"
                },
                {
                    "ename": "WMLClientError",
                    "evalue": "Deployment creation failed. Error: 400. {\"trace\":\"c022dc449cda9a5de64909d4e7a87e09\",\"errors\":[{\"code\":\"unsupported_software_specification_details\",\"message\":\"Software specification runtime-22.1-py3.9 for model is not supported. Supported software specifications for model are: default_py3.7, default_py3.7_opence, default_py3.8. Retry deployment after saving the model with supported software specification.\"}]}",
                    "output_type": "error",
                    "traceback": [
                        "\u001b[0;31m---------------------------------------------------------------------------\u001b[0m",
                        "\u001b[0;31mWMLClientError\u001b[0m                            Traceback (most recent call last)",
                        "\u001b[0;32m/tmp/wsuser/ipykernel_175/272361312.py\u001b[0m in \u001b[0;36m<module>\u001b[0;34m\u001b[0m\n\u001b[1;32m      1\u001b[0m \u001b[0mpublished_model\u001b[0m \u001b[0;34m=\u001b[0m \u001b[0mpublish_model\u001b[0m\u001b[0;34m(\u001b[0m\u001b[0mmodel\u001b[0m\u001b[0;34m)\u001b[0m\u001b[0;34m\u001b[0m\u001b[0;34m\u001b[0m\u001b[0m\n\u001b[0;32m----> 2\u001b[0;31m \u001b[0mserving_url\u001b[0m\u001b[0;34m,\u001b[0m \u001b[0mdeployment_uid\u001b[0m \u001b[0;34m=\u001b[0m \u001b[0mdeploy_model\u001b[0m\u001b[0;34m(\u001b[0m\u001b[0mpublished_model\u001b[0m\u001b[0;34m)\u001b[0m\u001b[0;34m\u001b[0m\u001b[0;34m\u001b[0m\u001b[0m\n\u001b[0m",
                        "\u001b[0;32m/tmp/wsuser/ipykernel_175/1969429491.py\u001b[0m in \u001b[0;36mdeploy_model\u001b[0;34m(model_uid)\u001b[0m\n\u001b[1;32m      9\u001b[0m         \u001b[0mclient\u001b[0m\u001b[0;34m.\u001b[0m\u001b[0mdeployments\u001b[0m\u001b[0;34m.\u001b[0m\u001b[0mConfigurationMetaNames\u001b[0m\u001b[0;34m.\u001b[0m\u001b[0mONLINE\u001b[0m\u001b[0;34m:\u001b[0m \u001b[0;34m{\u001b[0m\u001b[0;34m}\u001b[0m\u001b[0;34m\u001b[0m\u001b[0;34m\u001b[0m\u001b[0m\n\u001b[1;32m     10\u001b[0m     }\n\u001b[0;32m---> 11\u001b[0;31m     \u001b[0mcreated_deployment\u001b[0m \u001b[0;34m=\u001b[0m \u001b[0mclient\u001b[0m\u001b[0;34m.\u001b[0m\u001b[0mdeployments\u001b[0m\u001b[0;34m.\u001b[0m\u001b[0mcreate\u001b[0m\u001b[0;34m(\u001b[0m\u001b[0mmodel_uid\u001b[0m\u001b[0;34m,\u001b[0m \u001b[0mmeta_props\u001b[0m\u001b[0;34m=\u001b[0m\u001b[0mmetadata\u001b[0m\u001b[0;34m)\u001b[0m\u001b[0;34m\u001b[0m\u001b[0;34m\u001b[0m\u001b[0m\n\u001b[0m\u001b[1;32m     12\u001b[0m     \u001b[0mserving_url\u001b[0m \u001b[0;34m=\u001b[0m \u001b[0mcreated_deployment\u001b[0m\u001b[0;34m[\u001b[0m\u001b[0;34m'entity'\u001b[0m\u001b[0;34m]\u001b[0m\u001b[0;34m[\u001b[0m\u001b[0;34m'status'\u001b[0m\u001b[0;34m]\u001b[0m\u001b[0;34m[\u001b[0m\u001b[0;34m'serving_urls'\u001b[0m\u001b[0;34m]\u001b[0m\u001b[0;34m[\u001b[0m\u001b[0;36m0\u001b[0m\u001b[0;34m]\u001b[0m\u001b[0;34m\u001b[0m\u001b[0;34m\u001b[0m\u001b[0m\n\u001b[1;32m     13\u001b[0m     \u001b[0mdeployment_uid\u001b[0m \u001b[0;34m=\u001b[0m \u001b[0mclient\u001b[0m\u001b[0;34m.\u001b[0m\u001b[0mdeployments\u001b[0m\u001b[0;34m.\u001b[0m\u001b[0mget_id\u001b[0m\u001b[0;34m(\u001b[0m\u001b[0mcreated_deployment\u001b[0m\u001b[0;34m)\u001b[0m\u001b[0;34m\u001b[0m\u001b[0;34m\u001b[0m\u001b[0m\n",
                        "\u001b[0;32m/opt/conda/envs/Python-3.9/lib/python3.9/site-packages/ibm_watson_machine_learning/deployments.py\u001b[0m in \u001b[0;36mcreate\u001b[0;34m(self, artifact_uid, meta_props, rev_id, **kwargs)\u001b[0m\n\u001b[1;32m    270\u001b[0m                 \u001b[0mprint\u001b[0m\u001b[0;34m(\u001b[0m\u001b[0mreason\u001b[0m\u001b[0;34m)\u001b[0m\u001b[0;34m\u001b[0m\u001b[0;34m\u001b[0m\u001b[0m\n\u001b[1;32m    271\u001b[0m                 \u001b[0mprint_text_header_h2\u001b[0m\u001b[0;34m(\u001b[0m\u001b[0merror_msg\u001b[0m\u001b[0;34m)\u001b[0m\u001b[0;34m\u001b[0m\u001b[0;34m\u001b[0m\u001b[0m\n\u001b[0;32m--> 272\u001b[0;31m                 \u001b[0;32mraise\u001b[0m \u001b[0mWMLClientError\u001b[0m\u001b[0;34m(\u001b[0m\u001b[0merror_msg\u001b[0m \u001b[0;34m+\u001b[0m \u001b[0;34m'. Error: '\u001b[0m \u001b[0;34m+\u001b[0m \u001b[0mstr\u001b[0m\u001b[0;34m(\u001b[0m\u001b[0mresponse\u001b[0m\u001b[0;34m.\u001b[0m\u001b[0mstatus_code\u001b[0m\u001b[0;34m)\u001b[0m \u001b[0;34m+\u001b[0m \u001b[0;34m'. '\u001b[0m \u001b[0;34m+\u001b[0m \u001b[0mreason\u001b[0m\u001b[0;34m)\u001b[0m\u001b[0;34m\u001b[0m\u001b[0;34m\u001b[0m\u001b[0m\n\u001b[0m\u001b[1;32m    273\u001b[0m \u001b[0;34m\u001b[0m\u001b[0m\n\u001b[1;32m    274\u001b[0m             \u001b[0;31m#return self._handle_response(202, u'created deployment', response)\u001b[0m\u001b[0;34m\u001b[0m\u001b[0;34m\u001b[0m\u001b[0m\n",
                        "\u001b[0;31mWMLClientError\u001b[0m: Deployment creation failed. Error: 400. {\"trace\":\"c022dc449cda9a5de64909d4e7a87e09\",\"errors\":[{\"code\":\"unsupported_software_specification_details\",\"message\":\"Software specification runtime-22.1-py3.9 for model is not supported. Supported software specifications for model are: default_py3.7, default_py3.7_opence, default_py3.8. Retry deployment after saving the model with supported software specification.\"}]}"
                    ]
                }
            ],
            "source": "published_model = publish_model(model)\nserving_url, deployment_uid = deploy_model(published_model)"
        },
        {
            "cell_type": "code",
            "execution_count": null,
            "metadata": {},
            "outputs": [],
            "source": "### THis is my changhe"
        },
        {
            "cell_type": "code",
            "execution_count": null,
            "metadata": {},
            "outputs": [],
            "source": ""
        }
    ],
    "metadata": {
        "kernelspec": {
            "display_name": "Python 3.9",
            "language": "python",
            "name": "python3"
        },
        "language_info": {
            "codemirror_mode": {
                "name": "ipython",
                "version": 3
            },
            "file_extension": ".py",
            "mimetype": "text/x-python",
            "name": "python",
            "nbconvert_exporter": "python",
            "pygments_lexer": "ipython3",
            "version": "3.9.7"
        }
    },
    "nbformat": 4,
    "nbformat_minor": 1
}